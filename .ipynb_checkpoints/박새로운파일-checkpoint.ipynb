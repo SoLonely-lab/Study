{
 "cells": [
  {
   "cell_type": "code",
   "execution_count": 9,
   "metadata": {},
   "outputs": [
    {
     "name": "stdout",
     "output_type": "stream",
     "text": [
      "니면상\n",
      "\n",
      "00123\n",
      "123뷁뷁\n",
      "00123\n"
     ]
    }
   ],
   "source": [
    "print(\"니면상\")\n",
    "\n",
    "a = '123'\n",
    "print()\n",
    "print(a.zfill(5))\n",
    "print(a.ljust(5,\"뷁\")) # 자릿수, 채울려는 내용\n",
    "print(a.rjust(5,\"0\"))"
   ]
  },
  {
   "cell_type": "code",
   "execution_count": 10,
   "metadata": {},
   "outputs": [
    {
     "name": "stdout",
     "output_type": "stream",
     "text": [
      "니면상\n"
     ]
    }
   ],
   "source": [
    "print(\"니면상\")"
   ]
  },
  {
   "cell_type": "code",
<<<<<<< HEAD
   "execution_count": 12,
=======
   "execution_count": 11,
>>>>>>> YD
   "metadata": {},
   "outputs": [
    {
     "name": "stdout",
     "output_type": "stream",
     "text": [
<<<<<<< HEAD
      "니면상을 마스터에서\n"
=======
      "니면상을 브랜치에서\n"
>>>>>>> YD
     ]
    }
   ],
   "source": [
<<<<<<< HEAD
    "print(\"니면상을 마스터에서\")"
=======
    "print(\"니면상을 브랜치에서\")"
>>>>>>> YD
   ]
  },
  {
   "cell_type": "code",
   "execution_count": null,
   "metadata": {},
   "outputs": [],
   "source": []
  }
 ],
 "metadata": {
  "kernelspec": {
   "display_name": "Python 3",
   "language": "python",
   "name": "python3"
  },
  "language_info": {
   "codemirror_mode": {
    "name": "ipython",
    "version": 3
   },
   "file_extension": ".py",
   "mimetype": "text/x-python",
   "name": "python",
   "nbconvert_exporter": "python",
   "pygments_lexer": "ipython3",
   "version": "3.8.3"
  }
 },
 "nbformat": 4,
 "nbformat_minor": 4
}
